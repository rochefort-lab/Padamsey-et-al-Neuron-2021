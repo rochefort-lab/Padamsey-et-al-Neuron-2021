{
 "cells": [
  {
   "cell_type": "markdown",
   "metadata": {},
   "source": [
    "# TRACES - Run deterministic model with \"synaptic noise\" \n",
    "\n",
    "ie artificially create trial-to-trial variability by sampling from Normal distribution the synaptic conductance at each trial"
   ]
  },
  {
   "cell_type": "code",
   "execution_count": null,
   "metadata": {},
   "outputs": [],
   "source": [
    "import custommodel as ctm\n",
    "import deterministicfunc as dgi \n",
    "import numpy as np\n",
    "%matplotlib inline\n",
    "import matplotlib.pyplot as plt\n",
    "\n",
    "import pandas as pd"
   ]
  },
  {
   "cell_type": "markdown",
   "metadata": {},
   "source": [
    "# Select model to run"
   ]
  },
  {
   "cell_type": "code",
   "execution_count": null,
   "metadata": {},
   "outputs": [],
   "source": [
    "# List of possible models to tests: \n",
    "# control, increased input resistance, etc\n",
    "list_models= ['ctr','fdE0','ctrE0','fd']"
   ]
  },
  {
   "cell_type": "code",
   "execution_count": null,
   "metadata": {},
   "outputs": [],
   "source": [
    "# ---- CHANNELS\n",
    "\n",
    "# Main name for channels model to load\n",
    "\n",
    "chanfile = 'carter_subtchan'\n",
    "\n",
    "# Action potential detection threshold\n",
    "APthreshold = -20\n",
    "\n",
    "\n",
    "# ---- INPUT\n",
    "\n",
    "# Number of loops per synaptic input step\n",
    "numloops = 20 \n",
    "\n",
    "prheo = 0.9\n",
    "prheo_det = 0.9 # this is for the basic \"deterministic run\"\n",
    "\n",
    "syn_noise_sd = 4.5 # Ginput\n",
    "#syn_noise_sd = 0.1 # Iinput\n"
   ]
  },
  {
   "cell_type": "markdown",
   "metadata": {},
   "source": [
    "### Groups and parameters for the synaptic input"
   ]
  },
  {
   "cell_type": "code",
   "execution_count": null,
   "metadata": {},
   "outputs": [],
   "source": [
    "gl_drop = 0.79\n",
    "\n",
    "modeldata = {'ctr':{'key_group':'ctr', 'gldrop': 1, 'clamprest': None}, \n",
    "             'fd':{'key_group':'fd', 'gldrop': gl_drop, 'clamprest': None}, \n",
    "             'fdE0':{'key_group':'ctr', 'gldrop': gl_drop, 'clamprest': None},\n",
    "             'ctrE0':{'key_group':'fd', 'gldrop': 1, 'clamprest': None}}\n"
   ]
  },
  {
   "cell_type": "markdown",
   "metadata": {},
   "source": [
    "### Setup stimulus"
   ]
  },
  {
   "cell_type": "code",
   "execution_count": null,
   "metadata": {},
   "outputs": [],
   "source": [
    "stimdelay = 0\n",
    "stimduration = 325 \n",
    "intype = 'gsyn' # options: gsyn = conductance ; isyn = current synaptic input \n",
    "\n",
    "synparams = {'tau_rise':70, 'tau_decay':75,'Er':0, 'stimdelay':stimdelay, 'delay':0}\n",
    "# note: 'delay' is an additional delay - see where insert synapse\n",
    "\n",
    "stim_params = ctm.get_simginputparameters(stimdelay, stimduration, intype, synparams=synparams)"
   ]
  },
  {
   "cell_type": "markdown",
   "metadata": {},
   "source": [
    "# Select a model to run"
   ]
  },
  {
   "cell_type": "code",
   "execution_count": null,
   "metadata": {},
   "outputs": [],
   "source": [
    "model = 'ctr'\n",
    "#model = 'fdE0'\n",
    "#model = 'ctrE0'\n",
    "#model = 'fd'"
   ]
  },
  {
   "cell_type": "markdown",
   "metadata": {},
   "source": [
    "# Get rheo"
   ]
  },
  {
   "cell_type": "code",
   "execution_count": null,
   "metadata": {},
   "outputs": [],
   "source": [
    "isstochastic = False\n",
    "\n",
    "if intype=='gsyn':\n",
    "    precision = 1e-3\n",
    "    offInput = 10\n",
    "    onInput = 150\n",
    "else:\n",
    "    precision = 1e-6\n",
    "    offInput = 0.1\n",
    "    onInput = 10\n",
    "\n",
    "    \n",
    "print(\"*** \"+model+\" ***\")\n",
    "\n",
    "# Get first spike\n",
    "\n",
    "model_params = ctm.ModelParameters(modeldata[model]['key_group'], isstochastic, \n",
    "                                   modeldata[model]['gldrop'], APthreshold, \n",
    "                                   chanfile=chanfile, iong=iong,  \n",
    "                                   clamprest=modeldata[model]['clamprest'])\n",
    "\n",
    "\n",
    "dgi.check_setup_model_sim(model_params, stim_params)\n",
    "\n",
    "gfirstspike, _, is_success = dgi.get_firstspike_ginput(model_params,\n",
    "                                                       stim_params,\n",
    "                                                       offInput,\n",
    "                                                       onInput,\n",
    "                                                       precision)\n",
    "\n",
    "print(is_success)\n",
    "print(gfirstspike)\n",
    "\n"
   ]
  },
  {
   "cell_type": "markdown",
   "metadata": {},
   "source": [
    "# Run traces"
   ]
  },
  {
   "cell_type": "code",
   "execution_count": null,
   "metadata": {
    "scrolled": false
   },
   "outputs": [],
   "source": [
    "doparallel = False\n",
    "#doparallel = True\n",
    "#MAX_WORKERS = None # can leave like that if not doing multiproc\n",
    "#MAX_WORKERS = os.cpu_count() # to use all ressources\n",
    "MAX_WORKERS = 0 # select max number \n",
    "\n",
    "\n",
    "# Store traces for various simulations with \"syn noise\"\n",
    "sto_trace_var_models = {}\n",
    "# We also run a deterministic trace to get the \"average\"\n",
    "det_trace_var_models = {} \n",
    "\n",
    "\n",
    "\n",
    "# -- Get deterministic trace\n",
    "trace_var = dgi.run_ginput_trace(model_params, stim_params, prheo_det * gfirstspike)\n",
    "det_trace_var_models[model] = {'t':trace_var['t'], 'v':trace_var['v']}\n",
    "\n",
    "\n",
    "# -- Run \"stochastic\" trace\n",
    "\n",
    "# Add \"syn noise\"\n",
    "stim_params_synnoise = stim_params.copy()\n",
    "stim_params_synnoise['syn_noise_sd'] = syn_noise_sd\n",
    "\n",
    "# Norm noise to control so that we can simply * by amplitude to scale the noise\n",
    "# (see 'model_setup.py')\n",
    "stim_params_synnoise['syn_noise_sd'] /= gfirstspike\n",
    "\n",
    "\n",
    "dgi.check_setup_model_sim(model_params, stim_params_synnoise)\n",
    "\n",
    "\n",
    "\n",
    "sto_trace_var_models[model] = {'t':[], 'v':[], 'apc':[], 'syn_ge':[]}\n",
    "\n",
    "for kloop in range(numloops):\n",
    "    \n",
    "    trace_var = dgi.run_ginput_trace(model_params, stim_params_synnoise, prheo*gfirstspike, output_g=True)\n",
    "\n",
    "\n",
    "    sto_trace_var_models[model]['syn_ge'].append(trace_var['syn_ge'][0])\n",
    "    sto_trace_var_models[model]['v'].append(trace_var['v'][0])\n",
    "    sto_trace_var_models[model]['apc'].append(trace_var['apc'][0])\n",
    "    \n",
    "sto_trace_var_models[model]['t'] = trace_var['t'].copy()\n",
    "\n",
    "# TODO: delete temporary variable \"trace_var\" or create function"
   ]
  },
  {
   "cell_type": "markdown",
   "metadata": {},
   "source": [
    "# Plot"
   ]
  },
  {
   "cell_type": "code",
   "execution_count": null,
   "metadata": {},
   "outputs": [],
   "source": [
    "model_params.gl"
   ]
  },
  {
   "cell_type": "code",
   "execution_count": null,
   "metadata": {},
   "outputs": [],
   "source": [
    "palette = {'ctr':(0.4,0.4,0.4), \n",
    "           'fd': (0.2,0.2,1),\n",
    "           'fdE0': (0.9,0,0.3), \n",
    "           'ctrE0': (0,0.7,0.35)}    "
   ]
  },
  {
   "cell_type": "markdown",
   "metadata": {},
   "source": [
    "### Plot basic deterministic and \"stochastic\""
   ]
  },
  {
   "cell_type": "code",
   "execution_count": null,
   "metadata": {},
   "outputs": [],
   "source": [
    "fig, ax = plt.subplots(nrows=1, ncols=2, figsize=(18,6))\n",
    "\n",
    "\n",
    "# -----------------------------------------------------\n",
    "\n",
    "idx = 0\n",
    "\n",
    "ylim = [-75, -20]\n",
    "\n",
    "major_ticks=-np.arange(0,80,10)\n",
    "minor_ticks=-np.arange(0,80,5)\n",
    "   \n",
    "ax[idx].plot(det_trace_var_models[model]['t'], det_trace_var_models[model]['v'][0],\n",
    "             color=palette[model], label=model)\n",
    "ax[idx].set_xlabel('t (ms)')\n",
    "ax[idx].set_ylabel('membrane potential (mV)')\n",
    "    \n",
    "ax[idx].set_yticks(major_ticks)\n",
    "ax[idx].set_yticks(minor_ticks,minor=True)\n",
    "\n",
    "ax[idx].grid(which=\"major\",alpha=0.6)\n",
    "ax[idx].grid(which=\"minor\",alpha=0.3)\n",
    "    \n",
    "#ax[idx].grid()\n",
    "ax[idx].legend()\n",
    "if ylim:\n",
    "    ax[idx].set_ylim(ylim)\n",
    "\n",
    "    \n",
    "# -----------------------------------------------------\n",
    "\n",
    "idx = 1\n",
    "\n",
    "ylim = [-75, -20]\n",
    "ylim = None\n",
    "\n",
    "major_ticks=-np.arange(0,80,10)\n",
    "minor_ticks=-np.arange(0,80,5)\n",
    "\n",
    "for k in range(numloops):\n",
    "    ax[idx].plot(sto_trace_var_models[model]['t'], sto_trace_var_models[model]['v'][k],\n",
    "                 color=palette[model])\n",
    "ax[idx].set_xlabel('t (ms)')\n",
    "ax[idx].set_ylabel('membrane potential (mV)')\n",
    "\"\"\"    \n",
    "ax[idx].set_yticks(major_ticks)\n",
    "ax[idx].set_yticks(minor_ticks,minor=True)\n",
    "\n",
    "ax[idx].grid(which=\"major\",alpha=0.6)\n",
    "ax[idx].grid(which=\"minor\",alpha=0.3)\n",
    "    \"\"\"\n",
    "ax[idx].grid()\n",
    "if ylim:\n",
    "    ax[idx].set_ylim(ylim)\n"
   ]
  },
  {
   "cell_type": "markdown",
   "metadata": {},
   "source": [
    "### Plot runs with/without AP"
   ]
  },
  {
   "cell_type": "code",
   "execution_count": null,
   "metadata": {},
   "outputs": [],
   "source": [
    "sum([apc>0 for apc in sto_trace_var_models[model]['apc']])/numloops"
   ]
  },
  {
   "cell_type": "code",
   "execution_count": null,
   "metadata": {},
   "outputs": [],
   "source": [
    "fig, ax = plt.subplots(nrows=1, ncols=2, figsize=(18,6))\n",
    "\n",
    "idx = 0\n",
    "\n",
    "ylim = [-75, -20]\n",
    "\n",
    "major_ticks=-np.arange(0,80,10)\n",
    "minor_ticks=-np.arange(0,80,5)\n",
    "\n",
    "for k in range(numloops):\n",
    "    if sto_trace_var_models[model]['apc'][k]==0:\n",
    "        ax[idx].plot(sto_trace_var_models[model]['t'], sto_trace_var_models[model]['v'][k],\n",
    "                     color=palette[model])\n",
    "ax[idx].set_xlabel('t (ms)')\n",
    "ax[idx].set_ylabel('membrane potential (mV)')\n",
    "ax[idx].set_title('no ap')\n",
    "    \n",
    "ax[idx].set_yticks(major_ticks)\n",
    "ax[idx].set_yticks(minor_ticks,minor=True)\n",
    "\n",
    "ax[idx].grid(which=\"major\",alpha=0.6)\n",
    "ax[idx].grid(which=\"minor\",alpha=0.3)\n",
    "    \n",
    "#ax[idx].grid()\n",
    "if ylim:\n",
    "    ax[idx].set_ylim(ylim)\n",
    "\n",
    "idx = 1\n",
    "counter = 0\n",
    "for k in range(numloops):\n",
    "    if sto_trace_var_models[model]['apc'][k]>0:\n",
    "        counter+=1\n",
    "        ax[idx].plot(sto_trace_var_models[model]['t'], sto_trace_var_models[model]['v'][k],\n",
    "                     color=palette[model])\n",
    "ax[idx].set_xlabel('t (ms)')\n",
    "ax[idx].set_ylabel('membrane potential (mV)')\n",
    "ax[idx].set_title('ap')\n",
    "    \n",
    "ax[idx].grid()\n",
    "ax[idx].set_ylim([-75,30])\n",
    "\n",
    "print(counter)\n"
   ]
  },
  {
   "cell_type": "markdown",
   "metadata": {},
   "source": [
    "### Plot input conductance"
   ]
  },
  {
   "cell_type": "code",
   "execution_count": null,
   "metadata": {},
   "outputs": [],
   "source": [
    "fig, ax = plt.subplots(nrows=1, ncols=2, figsize=(18,6))\n",
    "\n",
    "idx = 0\n",
    "\n",
    "for k in range(numloops):\n",
    "    ax[idx].plot(sto_trace_var_models[model]['t'], \n",
    "                 [-g for g in sto_trace_var_models[model]['syn_ge'][k]],\n",
    "                 color=palette[model])\n",
    "    \n",
    "    \n",
    "ax[idx].set_xlabel('t (ms)')\n",
    "ax[idx].set_ylabel('input conductance') "
   ]
  }
 ],
 "metadata": {
  "kernelspec": {
   "display_name": "Python 3",
   "language": "python",
   "name": "python3"
  },
  "language_info": {
   "codemirror_mode": {
    "name": "ipython",
    "version": 3
   },
   "file_extension": ".py",
   "mimetype": "text/x-python",
   "name": "python",
   "nbconvert_exporter": "python",
   "pygments_lexer": "ipython3",
   "version": "3.7.4"
  }
 },
 "nbformat": 4,
 "nbformat_minor": 4
}
