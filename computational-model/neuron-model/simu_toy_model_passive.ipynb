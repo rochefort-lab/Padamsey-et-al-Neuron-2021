{
 "cells": [
  {
   "cell_type": "markdown",
   "metadata": {},
   "source": [
    "# Run passive model TOY model\n"
   ]
  },
  {
   "cell_type": "code",
   "execution_count": 1,
   "metadata": {},
   "outputs": [],
   "source": [
    "import custommodel as ctm\n",
    "import deterministicfunc as dgi \n",
    "import numpy as np\n",
    "%matplotlib inline\n",
    "import matplotlib.pyplot as plt\n"
   ]
  },
  {
   "cell_type": "markdown",
   "metadata": {},
   "source": [
    "# Select model and input conductance to run"
   ]
  },
  {
   "cell_type": "code",
   "execution_count": 2,
   "metadata": {},
   "outputs": [
    {
     "name": "stdout",
     "output_type": "stream",
     "text": [
      "21\n"
     ]
    }
   ],
   "source": [
    "# List of models to tests: control, increased input resistance, etc\n",
    "list_models= ['ctr','rin','depo','fr']\n",
    "\n",
    "# Artificial spike threshold\n",
    "APthreshold = -40\n",
    "\n",
    "# Setup the list of multiplicators for input conductance - g = p x rheo_input\n",
    "list_input0 = np.array(list(np.arange(0, 101, 5)/100))\n",
    "print(len(list_input0))\n",
    "\n"
   ]
  },
  {
   "cell_type": "code",
   "execution_count": 3,
   "metadata": {},
   "outputs": [
    {
     "name": "stdout",
     "output_type": "stream",
     "text": [
      "[0.   0.05 0.1  0.15 0.2 ]\n",
      "[0.8  0.85 0.9  0.95 1.  ]\n"
     ]
    }
   ],
   "source": [
    "print(list_input0[:5])\n",
    "print(list_input0[-5:])"
   ]
  },
  {
   "cell_type": "markdown",
   "metadata": {},
   "source": [
    "### Groups and parameters for the synaptic input"
   ]
  },
  {
   "cell_type": "code",
   "execution_count": 4,
   "metadata": {},
   "outputs": [],
   "source": [
    "gl_drop = 0.79\n",
    "\n",
    "modeldata = {'ctr':{'key_group':'ctr', 'gldrop': 1, 'clamprest': None}, \n",
    "             'fr':{'key_group':'fd', 'gldrop': gl_drop, 'clamprest': None}, \n",
    "             'rin':{'key_group':'ctr', 'gldrop': gl_drop, 'clamprest': None},\n",
    "             'depo':{'key_group':'fd', 'gldrop': 1, 'clamprest': None}}\n"
   ]
  },
  {
   "cell_type": "code",
   "execution_count": 5,
   "metadata": {},
   "outputs": [],
   "source": [
    "palette = {'ctr':(0.4,0.4,0.4), \n",
    "           'fr': (1,0,0),\n",
    "           'rin': (1,0,0.5), \n",
    "           'depo': (0.5,0,1)}    \n",
    "legend_mod = {'ctr':'control', \n",
    "           'fr': 'food restricted',\n",
    "           'rin': 'increased input R', \n",
    "           'depo': 'depolarized membrane resting mV'}    "
   ]
  },
  {
   "cell_type": "markdown",
   "metadata": {},
   "source": [
    "### Setup stimulus"
   ]
  },
  {
   "cell_type": "code",
   "execution_count": 6,
   "metadata": {},
   "outputs": [],
   "source": [
    "stimdelay = 0\n",
    "stimduration = 225 \n",
    "intype = 'gsyn' # options: gsyn = conductance ; isyn = current synaptic input \n",
    "\n",
    "synparams = {'tau_rise':70, 'tau_decay':75,'Er':0, 'stimdelay':stimdelay, 'delay':0}  \n",
    "# note: 'delay' is an additional delay - see where insert synapse\n",
    "    \n",
    "stim_params = ctm.get_simginputparameters(stimdelay, stimduration, intype, synparams=synparams)"
   ]
  },
  {
   "cell_type": "markdown",
   "metadata": {},
   "source": [
    "# Get rheo"
   ]
  },
  {
   "cell_type": "code",
   "execution_count": 7,
   "metadata": {
    "scrolled": true
   },
   "outputs": [
    {
     "name": "stdout",
     "output_type": "stream",
     "text": [
      "*** ctr ***\n",
      "------------------------\n",
      "Display model check...\n",
      "\t**Passive Model**\n",
      "\t-Resting potential and init E0 -75.0000 mV\n",
      "\t-Leak reversal potential -75.0000 mV\n",
      "\t-Leak conductance 0.1000 mS/cm2\n",
      "\t-Capa 1.0000 uF/cm2\n",
      "\t-Total duration of stimulation 225.00 ms\n",
      "\t-Total duration of simulation 225.00 ms\n",
      "\t-Syn noise for trial variability 0.000 (sd)\n",
      "True\n",
      "87.771\n",
      "*** rin ***\n",
      "------------------------\n",
      "Display model check...\n",
      "\t**Passive Model**\n",
      "\t-Resting potential and init E0 -75.0000 mV\n",
      "\t-Leak reversal potential -75.0000 mV\n",
      "\t-Leak conductance 0.0790 mS/cm2\n",
      "\t-Capa 1.0000 uF/cm2\n",
      "\t-Total duration of stimulation 225.00 ms\n",
      "\t-Total duration of simulation 225.00 ms\n",
      "\t-Syn noise for trial variability 0.000 (sd)\n",
      "True\n",
      "69.4871\n",
      "*** depo ***\n",
      "------------------------\n",
      "Display model check...\n",
      "\t**Passive Model**\n",
      "\t-Resting potential and init E0 -70.0000 mV\n",
      "\t-Leak reversal potential -70.0000 mV\n",
      "\t-Leak conductance 0.1000 mS/cm2\n",
      "\t-Capa 1.0000 uF/cm2\n",
      "\t-Total duration of stimulation 225.00 ms\n",
      "\t-Total duration of simulation 225.00 ms\n",
      "\t-Syn noise for trial variability 0.000 (sd)\n",
      "True\n",
      "75.2693\n",
      "*** fr ***\n",
      "------------------------\n",
      "Display model check...\n",
      "\t**Passive Model**\n",
      "\t-Resting potential and init E0 -70.0000 mV\n",
      "\t-Leak reversal potential -70.0000 mV\n",
      "\t-Leak conductance 0.0790 mS/cm2\n",
      "\t-Capa 1.0000 uF/cm2\n",
      "\t-Total duration of stimulation 225.00 ms\n",
      "\t-Total duration of simulation 225.00 ms\n",
      "\t-Syn noise for trial variability 0.000 (sd)\n",
      "True\n",
      "59.6112\n"
     ]
    }
   ],
   "source": [
    "isstochastic = False\n",
    "\n",
    "if intype=='gsyn':\n",
    "    precision = 1e-3\n",
    "    offInput = 10\n",
    "    onInput = 150\n",
    "else:\n",
    "    precision = 1e-6\n",
    "    offInput = 0.1\n",
    "    onInput = 10\n",
    "\n",
    "gfirstspike_models = {}\n",
    "model_params_models = {}\n",
    "\n",
    "for model in list_models:\n",
    "    \n",
    "    print(\"*** \"+model+\" ***\")\n",
    "    \n",
    "    model_params = ctm.ModelParameters(modeldata[model]['key_group'], isstochastic, \n",
    "                                       modeldata[model]['gldrop'], APthreshold)\n",
    "    \n",
    "    dgi.check_setup_model_sim(model_params, stim_params)\n",
    "    \n",
    "    gfirstspike, _, is_success = dgi.get_firstspike_ginput(model_params,\n",
    "                                                           stim_params,\n",
    "                                                           offInput,\n",
    "                                                           onInput,\n",
    "                                                           precision)\n",
    "\n",
    "    print(is_success)\n",
    "    print(gfirstspike)\n",
    "    \n",
    "    gfirstspike_models[model] = gfirstspike\n",
    "    \n",
    "    # Save model\n",
    "    model_params_models[model] = model_params"
   ]
  },
  {
   "cell_type": "markdown",
   "metadata": {},
   "source": [
    "### Get compensation"
   ]
  },
  {
   "cell_type": "code",
   "execution_count": 8,
   "metadata": {},
   "outputs": [
    {
     "name": "stdout",
     "output_type": "stream",
     "text": [
      "*** ctr ***\n",
      "1.0\n",
      "*** rin ***\n",
      "0.791686320082943\n",
      "*** depo ***\n",
      "0.8575645714415924\n",
      "*** fr ***\n",
      "0.6791673787469665\n"
     ]
    }
   ],
   "source": [
    "ref_model = 'ctr'\n",
    "\n",
    "rcomp_models = {}\n",
    "\n",
    "for model in list_models:\n",
    "    \n",
    "    print(\"*** \"+model+\" ***\")\n",
    "    \n",
    "    rcomp_models[model] = gfirstspike_models[model] / gfirstspike_models[ref_model]\n",
    "    \n",
    "\n",
    "    print(rcomp_models[model])\n",
    "    \n",
    " "
   ]
  },
  {
   "cell_type": "markdown",
   "metadata": {},
   "source": [
    "# Run various input to get I/O curve"
   ]
  },
  {
   "cell_type": "code",
   "execution_count": 9,
   "metadata": {
    "scrolled": true
   },
   "outputs": [
    {
     "name": "stdout",
     "output_type": "stream",
     "text": [
      "*** ctr ***\n",
      "*** rin ***\n",
      "*** depo ***\n",
      "*** fr ***\n"
     ]
    }
   ],
   "source": [
    "rec_var_models = {}\n",
    "\n",
    "for model in list_models:\n",
    "    \n",
    "    print(\"*** \"+model+\" ***\")\n",
    "\n",
    "    # Setup the input\n",
    "    list_input = list(rcomp_models[model]*gfirstspike_models[ref_model]*list_input0)\n",
    "    \n",
    "    rec_var_models[model] = dgi.run_io_ginput(model_params_models[model], stim_params, \n",
    "                                              list_input, 1)\n",
    "    \n"
   ]
  },
  {
   "cell_type": "markdown",
   "metadata": {},
   "source": [
    "### Fractional response"
   ]
  },
  {
   "cell_type": "code",
   "execution_count": 10,
   "metadata": {},
   "outputs": [],
   "source": [
    "fresp_models = {}\n",
    "\n",
    "for model, rec_var in rec_var_models.items():\n",
    "\n",
    "    response = [v_list[0]-model_params_models[model].E0 for v_list in rec_var_models[model]['vmax']]\n",
    "    fresp_models[model] = [r/(APthreshold-model_params_models[model].E0) for r in response]\n",
    " "
   ]
  },
  {
   "cell_type": "markdown",
   "metadata": {},
   "source": [
    "### Plot "
   ]
  },
  {
   "cell_type": "code",
   "execution_count": 13,
   "metadata": {},
   "outputs": [
    {
     "data": {
      "text/plain": [
       "(-0.01, 1.01)"
      ]
     },
     "execution_count": 13,
     "metadata": {},
     "output_type": "execute_result"
    },
    {
     "data": {
      "image/png": "[encoded data removed]",
      "text/plain": [
       "<Figure size 1296x288 with 2 Axes>"
      ]
     },
     "metadata": {
      "needs_background": "light"
     },
     "output_type": "display_data"
    }
   ],
   "source": [
    "ylim = [-0.01,1.01]\n",
    "\n",
    "fig, ax = plt.subplots(nrows=1, ncols=2, figsize=(18,4))\n",
    "\n",
    "idx = 0\n",
    "for model, y in fresp_models.items():\n",
    "\n",
    "    if model == 'ctr' or model == 'depo':\n",
    "        ls = '-'\n",
    "    else:\n",
    "        ls = '--'\n",
    "    ax[idx].plot(list_input0, y, ls,color=palette[model], label=legend_mod[model])\n",
    "    \n",
    "ax[idx].set_xlabel('input')\n",
    "ax[idx].set_ylabel('response')\n",
    "ax[idx].grid()\n",
    "ax[idx].legend()\n",
    "ax[idx].set_ylim(ylim)\n",
    "\n",
    "\"\"\"\n",
    "NOTE: the tiny bias observed in fractional response disappears with current injection.\n",
    "With input conductance this bias is due to the the synaptic driving force when depolarize from rest.\n",
    "\"\"\";"
   ]
  },
  {
   "cell_type": "code",
   "execution_count": null,
   "metadata": {},
   "outputs": [],
   "source": []
  }
 ],
 "metadata": {
  "kernelspec": {
   "display_name": "Python 3",
   "language": "python",
   "name": "python3"
  },
  "language_info": {
   "codemirror_mode": {
    "name": "ipython",
    "version": 3
   },
   "file_extension": ".py",
   "mimetype": "text/x-python",
   "name": "python",
   "nbconvert_exporter": "python",
   "pygments_lexer": "ipython3",
   "version": "3.7.4"
  }
 },
 "nbformat": 4,
 "nbformat_minor": 4
}
